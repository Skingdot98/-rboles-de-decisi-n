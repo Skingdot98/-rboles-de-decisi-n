{
 "cells": [
  {
   "cell_type": "code",
   "execution_count": 21,
   "id": "16bf3fe9-2229-44b7-9da5-1001f1b2831c",
   "metadata": {},
   "outputs": [],
   "source": [
    "import pandas as pd\n",
    "from sklearn.model_selection import train_test_split\n",
    "from sklearn.tree import DecisionTreeClassifier\n",
    "from sklearn.metrics import accuracy_score, classification_report"
   ]
  },
  {
   "cell_type": "code",
   "execution_count": 30,
   "id": "5a8ac7aa-1e3c-40df-af2e-349ba6fdbba8",
   "metadata": {},
   "outputs": [
    {
     "name": "stdout",
     "output_type": "stream",
     "text": [
      "    fixed acidity  volatile acidity  citric acid  residual sugar  chlorides  \\\n",
      "0             7.4             0.700         0.00             1.9      0.076   \n",
      "1             7.8             0.880         0.00             2.6      0.098   \n",
      "2             7.8             0.760         0.04             2.3      0.092   \n",
      "3            11.2             0.280         0.56             1.9      0.075   \n",
      "4             7.4             0.700         0.00             1.9      0.076   \n",
      "5             7.4             0.660         0.00             1.8      0.075   \n",
      "6             7.9             0.600         0.06             1.6      0.069   \n",
      "7             7.3             0.650         0.00             1.2      0.065   \n",
      "8             7.8             0.580         0.02             2.0      0.073   \n",
      "9             7.5             0.500         0.36             6.1      0.071   \n",
      "10            6.7             0.580         0.08             1.8      0.097   \n",
      "11            7.5             0.500         0.36             6.1      0.071   \n",
      "12            5.6             0.615         0.00             1.6      0.089   \n",
      "13            7.8             0.610         0.29             1.6      0.114   \n",
      "14            8.9             0.620         0.18             3.8      0.176   \n",
      "15            8.9             0.620         0.19             3.9      0.170   \n",
      "16            8.5             0.280         0.56             1.8      0.092   \n",
      "17            8.1             0.560         0.28             1.7      0.368   \n",
      "18            7.4             0.590         0.08             4.4      0.086   \n",
      "19            7.9             0.320         0.51             1.8      0.341   \n",
      "20            8.9             0.220         0.48             1.8      0.077   \n",
      "21            7.6             0.390         0.31             2.3      0.082   \n",
      "22            7.9             0.430         0.21             1.6      0.106   \n",
      "23            8.5             0.490         0.11             2.3      0.084   \n",
      "24            6.9             0.400         0.14             2.4      0.085   \n",
      "25            6.3             0.390         0.16             1.4      0.080   \n",
      "26            7.6             0.410         0.24             1.8      0.080   \n",
      "27            7.9             0.430         0.21             1.6      0.106   \n",
      "28            7.1             0.710         0.00             1.9      0.080   \n",
      "29            7.8             0.645         0.00             2.0      0.082   \n",
      "30            6.7             0.675         0.07             2.4      0.089   \n",
      "31            6.9             0.685         0.00             2.5      0.105   \n",
      "32            8.3             0.655         0.12             2.3      0.083   \n",
      "33            6.9             0.605         0.12            10.7      0.073   \n",
      "34            5.2             0.320         0.25             1.8      0.103   \n",
      "35            7.8             0.645         0.00             5.5      0.086   \n",
      "36            7.8             0.600         0.14             2.4      0.086   \n",
      "37            8.1             0.380         0.28             2.1      0.066   \n",
      "38            5.7             1.130         0.09             1.5      0.172   \n",
      "39            7.3             0.450         0.36             5.9      0.074   \n",
      "40            7.3             0.450         0.36             5.9      0.074   \n",
      "41            8.8             0.610         0.30             2.8      0.088   \n",
      "42            7.5             0.490         0.20             2.6      0.332   \n",
      "43            8.1             0.660         0.22             2.2      0.069   \n",
      "44            6.8             0.670         0.02             1.8      0.050   \n",
      "45            4.6             0.520         0.15             2.1      0.054   \n",
      "46            7.7             0.935         0.43             2.2      0.114   \n",
      "47            8.7             0.290         0.52             1.6      0.113   \n",
      "48            6.4             0.400         0.23             1.6      0.066   \n",
      "49            5.6             0.310         0.37             1.4      0.074   \n",
      "\n",
      "    free sulfur dioxide  total sulfur dioxide  density    pH  sulphates  \\\n",
      "0                  11.0                  34.0   0.9978  3.51       0.56   \n",
      "1                  25.0                  67.0   0.9968  3.20       0.68   \n",
      "2                  15.0                  54.0   0.9970  3.26       0.65   \n",
      "3                  17.0                  60.0   0.9980  3.16       0.58   \n",
      "4                  11.0                  34.0   0.9978  3.51       0.56   \n",
      "5                  13.0                  40.0   0.9978  3.51       0.56   \n",
      "6                  15.0                  59.0   0.9964  3.30       0.46   \n",
      "7                  15.0                  21.0   0.9946  3.39       0.47   \n",
      "8                   9.0                  18.0   0.9968  3.36       0.57   \n",
      "9                  17.0                 102.0   0.9978  3.35       0.80   \n",
      "10                 15.0                  65.0   0.9959  3.28       0.54   \n",
      "11                 17.0                 102.0   0.9978  3.35       0.80   \n",
      "12                 16.0                  59.0   0.9943  3.58       0.52   \n",
      "13                  9.0                  29.0   0.9974  3.26       1.56   \n",
      "14                 52.0                 145.0   0.9986  3.16       0.88   \n",
      "15                 51.0                 148.0   0.9986  3.17       0.93   \n",
      "16                 35.0                 103.0   0.9969  3.30       0.75   \n",
      "17                 16.0                  56.0   0.9968  3.11       1.28   \n",
      "18                  6.0                  29.0   0.9974  3.38       0.50   \n",
      "19                 17.0                  56.0   0.9969  3.04       1.08   \n",
      "20                 29.0                  60.0   0.9968  3.39       0.53   \n",
      "21                 23.0                  71.0   0.9982  3.52       0.65   \n",
      "22                 10.0                  37.0   0.9966  3.17       0.91   \n",
      "23                  9.0                  67.0   0.9968  3.17       0.53   \n",
      "24                 21.0                  40.0   0.9968  3.43       0.63   \n",
      "25                 11.0                  23.0   0.9955  3.34       0.56   \n",
      "26                  4.0                  11.0   0.9962  3.28       0.59   \n",
      "27                 10.0                  37.0   0.9966  3.17       0.91   \n",
      "28                 14.0                  35.0   0.9972  3.47       0.55   \n",
      "29                  8.0                  16.0   0.9964  3.38       0.59   \n",
      "30                 17.0                  82.0   0.9958  3.35       0.54   \n",
      "31                 22.0                  37.0   0.9966  3.46       0.57   \n",
      "32                 15.0                 113.0   0.9966  3.17       0.66   \n",
      "33                 40.0                  83.0   0.9993  3.45       0.52   \n",
      "34                 13.0                  50.0   0.9957  3.38       0.55   \n",
      "35                  5.0                  18.0   0.9986  3.40       0.55   \n",
      "36                  3.0                  15.0   0.9975  3.42       0.60   \n",
      "37                 13.0                  30.0   0.9968  3.23       0.73   \n",
      "38                  7.0                  19.0   0.9940  3.50       0.48   \n",
      "39                 12.0                  87.0   0.9978  3.33       0.83   \n",
      "40                 12.0                  87.0   0.9978  3.33       0.83   \n",
      "41                 17.0                  46.0   0.9976  3.26       0.51   \n",
      "42                  8.0                  14.0   0.9968  3.21       0.90   \n",
      "43                  9.0                  23.0   0.9968  3.30       1.20   \n",
      "44                  5.0                  11.0   0.9962  3.48       0.52   \n",
      "45                  8.0                  65.0   0.9934  3.90       0.56   \n",
      "46                 22.0                 114.0   0.9970  3.25       0.73   \n",
      "47                 12.0                  37.0   0.9969  3.25       0.58   \n",
      "48                  5.0                  12.0   0.9958  3.34       0.56   \n",
      "49                 12.0                  96.0   0.9954  3.32       0.58   \n",
      "\n",
      "    alcohol  quality  \n",
      "0       9.4        5  \n",
      "1       9.8        5  \n",
      "2       9.8        5  \n",
      "3       9.8        6  \n",
      "4       9.4        5  \n",
      "5       9.4        5  \n",
      "6       9.4        5  \n",
      "7      10.0        7  \n",
      "8       9.5        7  \n",
      "9      10.5        5  \n",
      "10      9.2        5  \n",
      "11     10.5        5  \n",
      "12      9.9        5  \n",
      "13      9.1        5  \n",
      "14      9.2        5  \n",
      "15      9.2        5  \n",
      "16     10.5        7  \n",
      "17      9.3        5  \n",
      "18      9.0        4  \n",
      "19      9.2        6  \n",
      "20      9.4        6  \n",
      "21      9.7        5  \n",
      "22      9.5        5  \n",
      "23      9.4        5  \n",
      "24      9.7        6  \n",
      "25      9.3        5  \n",
      "26      9.5        5  \n",
      "27      9.5        5  \n",
      "28      9.4        5  \n",
      "29      9.8        6  \n",
      "30     10.1        5  \n",
      "31     10.6        6  \n",
      "32      9.8        5  \n",
      "33      9.4        6  \n",
      "34      9.2        5  \n",
      "35      9.6        6  \n",
      "36     10.8        6  \n",
      "37      9.7        7  \n",
      "38      9.8        4  \n",
      "39     10.5        5  \n",
      "40     10.5        5  \n",
      "41      9.3        4  \n",
      "42     10.5        6  \n",
      "43     10.3        5  \n",
      "44      9.5        5  \n",
      "45     13.1        4  \n",
      "46      9.2        5  \n",
      "47      9.5        5  \n",
      "48      9.2        5  \n",
      "49      9.2        5  \n"
     ]
    }
   ],
   "source": [
    "import pandas as pd\n",
    "\n",
    "# Ruta completa del archivo\n",
    "file_path = r\"C:\\Users\\Skigdot\\Documents\\UNAD\\PERIODO 16-01\\ANÁLISIS DE DATOS\\Tarea 3\\winequality-red.csv\"\n",
    "\n",
    "# Cargar los datos\n",
    "print(Datos.head(50))"
   ]
  },
  {
   "cell_type": "code",
   "execution_count": 32,
   "id": "ea8ad95b-5a73-42d5-ad71-b5a88dc25122",
   "metadata": {},
   "outputs": [
    {
     "name": "stdout",
     "output_type": "stream",
     "text": [
      "       fixed acidity  volatile acidity  citric acid  residual sugar  \\\n",
      "count    1599.000000       1599.000000  1599.000000     1599.000000   \n",
      "mean        8.319637          0.527821     0.270976        2.538806   \n",
      "std         1.741096          0.179060     0.194801        1.409928   \n",
      "min         4.600000          0.120000     0.000000        0.900000   \n",
      "25%         7.100000          0.390000     0.090000        1.900000   \n",
      "50%         7.900000          0.520000     0.260000        2.200000   \n",
      "75%         9.200000          0.640000     0.420000        2.600000   \n",
      "max        15.900000          1.580000     1.000000       15.500000   \n",
      "\n",
      "         chlorides  free sulfur dioxide  total sulfur dioxide      density  \\\n",
      "count  1599.000000          1599.000000           1599.000000  1599.000000   \n",
      "mean      0.087467            15.874922             46.467792     0.996747   \n",
      "std       0.047065            10.460157             32.895324     0.001887   \n",
      "min       0.012000             1.000000              6.000000     0.990070   \n",
      "25%       0.070000             7.000000             22.000000     0.995600   \n",
      "50%       0.079000            14.000000             38.000000     0.996750   \n",
      "75%       0.090000            21.000000             62.000000     0.997835   \n",
      "max       0.611000            72.000000            289.000000     1.003690   \n",
      "\n",
      "                pH    sulphates      alcohol      quality  \n",
      "count  1599.000000  1599.000000  1599.000000  1599.000000  \n",
      "mean      3.311113     0.658149    10.422983     5.636023  \n",
      "std       0.154386     0.169507     1.065668     0.807569  \n",
      "min       2.740000     0.330000     8.400000     3.000000  \n",
      "25%       3.210000     0.550000     9.500000     5.000000  \n",
      "50%       3.310000     0.620000    10.200000     6.000000  \n",
      "75%       3.400000     0.730000    11.100000     6.000000  \n",
      "max       4.010000     2.000000    14.900000     8.000000  \n"
     ]
    }
   ],
   "source": [
    "#Descripcion de datos\n",
    "descripcion = Datos.describe()\n",
    "print(descripcion)"
   ]
  },
  {
   "cell_type": "code",
   "execution_count": 33,
   "id": "704470ec-1f23-4887-afe8-a83a134d76e8",
   "metadata": {},
   "outputs": [
    {
     "data": {
      "text/plain": [
       "fixed acidity           0\n",
       "volatile acidity        0\n",
       "citric acid             0\n",
       "residual sugar          0\n",
       "chlorides               0\n",
       "free sulfur dioxide     0\n",
       "total sulfur dioxide    0\n",
       "density                 0\n",
       "pH                      0\n",
       "sulphates               0\n",
       "alcohol                 0\n",
       "quality                 0\n",
       "dtype: int64"
      ]
     },
     "execution_count": 33,
     "metadata": {},
     "output_type": "execute_result"
    }
   ],
   "source": [
    "data.isna().sum()"
   ]
  },
  {
   "cell_type": "code",
   "execution_count": 36,
   "id": "a778e747-b141-44f4-aa76-897671422b9f",
   "metadata": {},
   "outputs": [],
   "source": [
    "# Dividir los datos en características (X) y etiquetas (y)\n",
    "X = data.drop('quality', axis=1)  # Características\n",
    "y = data['quality']  # Etiquetas"
   ]
  },
  {
   "cell_type": "code",
   "execution_count": 37,
   "id": "5265170f-1c94-4a0e-8910-1f1b7d0b5759",
   "metadata": {},
   "outputs": [],
   "source": [
    "# Dividir los datos en conjuntos de entrenamiento y prueba\n",
    "X_train, X_test, y_train, y_test = train_test_split(X, y, test_size=0.2, random_state=42)"
   ]
  },
  {
   "cell_type": "code",
   "execution_count": 38,
   "id": "a2354502-514e-431f-b7a9-74661d5a56de",
   "metadata": {},
   "outputs": [],
   "source": [
    "# Inicializar el clasificador de árbol de decisión\n",
    "clf = DecisionTreeClassifier(random_state=42)"
   ]
  },
  {
   "cell_type": "code",
   "execution_count": 39,
   "id": "43299ca0-4867-4487-8557-afbf18a8eac3",
   "metadata": {},
   "outputs": [
    {
     "data": {
      "text/html": [
       "<style>#sk-container-id-3 {color: black;background-color: white;}#sk-container-id-3 pre{padding: 0;}#sk-container-id-3 div.sk-toggleable {background-color: white;}#sk-container-id-3 label.sk-toggleable__label {cursor: pointer;display: block;width: 100%;margin-bottom: 0;padding: 0.3em;box-sizing: border-box;text-align: center;}#sk-container-id-3 label.sk-toggleable__label-arrow:before {content: \"▸\";float: left;margin-right: 0.25em;color: #696969;}#sk-container-id-3 label.sk-toggleable__label-arrow:hover:before {color: black;}#sk-container-id-3 div.sk-estimator:hover label.sk-toggleable__label-arrow:before {color: black;}#sk-container-id-3 div.sk-toggleable__content {max-height: 0;max-width: 0;overflow: hidden;text-align: left;background-color: #f0f8ff;}#sk-container-id-3 div.sk-toggleable__content pre {margin: 0.2em;color: black;border-radius: 0.25em;background-color: #f0f8ff;}#sk-container-id-3 input.sk-toggleable__control:checked~div.sk-toggleable__content {max-height: 200px;max-width: 100%;overflow: auto;}#sk-container-id-3 input.sk-toggleable__control:checked~label.sk-toggleable__label-arrow:before {content: \"▾\";}#sk-container-id-3 div.sk-estimator input.sk-toggleable__control:checked~label.sk-toggleable__label {background-color: #d4ebff;}#sk-container-id-3 div.sk-label input.sk-toggleable__control:checked~label.sk-toggleable__label {background-color: #d4ebff;}#sk-container-id-3 input.sk-hidden--visually {border: 0;clip: rect(1px 1px 1px 1px);clip: rect(1px, 1px, 1px, 1px);height: 1px;margin: -1px;overflow: hidden;padding: 0;position: absolute;width: 1px;}#sk-container-id-3 div.sk-estimator {font-family: monospace;background-color: #f0f8ff;border: 1px dotted black;border-radius: 0.25em;box-sizing: border-box;margin-bottom: 0.5em;}#sk-container-id-3 div.sk-estimator:hover {background-color: #d4ebff;}#sk-container-id-3 div.sk-parallel-item::after {content: \"\";width: 100%;border-bottom: 1px solid gray;flex-grow: 1;}#sk-container-id-3 div.sk-label:hover label.sk-toggleable__label {background-color: #d4ebff;}#sk-container-id-3 div.sk-serial::before {content: \"\";position: absolute;border-left: 1px solid gray;box-sizing: border-box;top: 0;bottom: 0;left: 50%;z-index: 0;}#sk-container-id-3 div.sk-serial {display: flex;flex-direction: column;align-items: center;background-color: white;padding-right: 0.2em;padding-left: 0.2em;position: relative;}#sk-container-id-3 div.sk-item {position: relative;z-index: 1;}#sk-container-id-3 div.sk-parallel {display: flex;align-items: stretch;justify-content: center;background-color: white;position: relative;}#sk-container-id-3 div.sk-item::before, #sk-container-id-3 div.sk-parallel-item::before {content: \"\";position: absolute;border-left: 1px solid gray;box-sizing: border-box;top: 0;bottom: 0;left: 50%;z-index: -1;}#sk-container-id-3 div.sk-parallel-item {display: flex;flex-direction: column;z-index: 1;position: relative;background-color: white;}#sk-container-id-3 div.sk-parallel-item:first-child::after {align-self: flex-end;width: 50%;}#sk-container-id-3 div.sk-parallel-item:last-child::after {align-self: flex-start;width: 50%;}#sk-container-id-3 div.sk-parallel-item:only-child::after {width: 0;}#sk-container-id-3 div.sk-dashed-wrapped {border: 1px dashed gray;margin: 0 0.4em 0.5em 0.4em;box-sizing: border-box;padding-bottom: 0.4em;background-color: white;}#sk-container-id-3 div.sk-label label {font-family: monospace;font-weight: bold;display: inline-block;line-height: 1.2em;}#sk-container-id-3 div.sk-label-container {text-align: center;}#sk-container-id-3 div.sk-container {/* jupyter's `normalize.less` sets `[hidden] { display: none; }` but bootstrap.min.css set `[hidden] { display: none !important; }` so we also need the `!important` here to be able to override the default hidden behavior on the sphinx rendered scikit-learn.org. See: https://github.com/scikit-learn/scikit-learn/issues/21755 */display: inline-block !important;position: relative;}#sk-container-id-3 div.sk-text-repr-fallback {display: none;}</style><div id=\"sk-container-id-3\" class=\"sk-top-container\"><div class=\"sk-text-repr-fallback\"><pre>DecisionTreeClassifier(random_state=42)</pre><b>In a Jupyter environment, please rerun this cell to show the HTML representation or trust the notebook. <br />On GitHub, the HTML representation is unable to render, please try loading this page with nbviewer.org.</b></div><div class=\"sk-container\" hidden><div class=\"sk-item\"><div class=\"sk-estimator sk-toggleable\"><input class=\"sk-toggleable__control sk-hidden--visually\" id=\"sk-estimator-id-3\" type=\"checkbox\" checked><label for=\"sk-estimator-id-3\" class=\"sk-toggleable__label sk-toggleable__label-arrow\">DecisionTreeClassifier</label><div class=\"sk-toggleable__content\"><pre>DecisionTreeClassifier(random_state=42)</pre></div></div></div></div></div>"
      ],
      "text/plain": [
       "DecisionTreeClassifier(random_state=42)"
      ]
     },
     "execution_count": 39,
     "metadata": {},
     "output_type": "execute_result"
    }
   ],
   "source": [
    "# Entrenar el clasificador\n",
    "clf.fit(X_train, y_train)"
   ]
  },
  {
   "cell_type": "code",
   "execution_count": 40,
   "id": "561cc5fc-e3e8-44cf-9fe4-05ccede3f3a6",
   "metadata": {},
   "outputs": [],
   "source": [
    "# Predecir en el conjunto de prueba\n",
    "y_pred = clf.predict(X_test)"
   ]
  },
  {
   "cell_type": "code",
   "execution_count": 42,
   "id": "7bb53df0-eddf-4a53-ac3d-b29e899c3d18",
   "metadata": {},
   "outputs": [
    {
     "name": "stdout",
     "output_type": "stream",
     "text": [
      "Accuracy: 0.559375\n"
     ]
    }
   ],
   "source": [
    "# Calcular la precisión\n",
    "accuracy = accuracy_score(y_test, y_pred)\n",
    "print(\"Accuracy:\", accuracy)"
   ]
  },
  {
   "cell_type": "code",
   "execution_count": 43,
   "id": "ae2d8fc0-2fe2-48c0-997d-a6591878f671",
   "metadata": {},
   "outputs": [
    {
     "name": "stdout",
     "output_type": "stream",
     "text": [
      "\n",
      "Classification Report:\n",
      "              precision    recall  f1-score   support\n",
      "\n",
      "           3       0.00      0.00      0.00         1\n",
      "           4       0.00      0.00      0.00        10\n",
      "           5       0.63      0.68      0.65       130\n",
      "           6       0.55      0.53      0.54       132\n",
      "           7       0.51      0.50      0.51        42\n",
      "           8       0.00      0.00      0.00         5\n",
      "\n",
      "    accuracy                           0.56       320\n",
      "   macro avg       0.28      0.28      0.28       320\n",
      "weighted avg       0.55      0.56      0.55       320\n",
      "\n"
     ]
    }
   ],
   "source": [
    "# Mostrar el informe de clasificación\n",
    "print(\"\\nClassification Report:\")\n",
    "print(classification_report(y_test, y_pred))"
   ]
  }
 ],
 "metadata": {
  "kernelspec": {
   "display_name": "Python 3 (ipykernel)",
   "language": "python",
   "name": "python3"
  },
  "language_info": {
   "codemirror_mode": {
    "name": "ipython",
    "version": 3
   },
   "file_extension": ".py",
   "mimetype": "text/x-python",
   "name": "python",
   "nbconvert_exporter": "python",
   "pygments_lexer": "ipython3",
   "version": "3.11.7"
  }
 },
 "nbformat": 4,
 "nbformat_minor": 5
}
